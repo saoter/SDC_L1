{
 "cells": [
  {
   "cell_type": "markdown",
   "metadata": {},
   "source": [
    "# Collect news articles using API"
   ]
  },
  {
   "cell_type": "code",
   "execution_count": null,
   "metadata": {},
   "outputs": [],
   "source": [
    "# Import packages\n",
    "\n",
    "import pandas as pd\n",
    "import json\n",
    "import requests\n",
    "\n",
    "import os\n",
    "from dotenv import load_dotenv"
   ]
  },
  {
   "cell_type": "markdown",
   "metadata": {},
   "source": [
    "We will use www.alphavantage.co"
   ]
  },
  {
   "cell_type": "markdown",
   "metadata": {},
   "source": [
    "### First we need to get api key\n",
    "\n",
    "- Go to https://www.alphavantage.co/ and click on \"GET FREE API KEY\"\n",
    "- Choose your occupatoin, add university, and email address\n",
    "- Copy generated api key\n",
    "\n",
    "- create a  .env file in the same directory as this notebook\n",
    "- insert: FIN_API_KEY=xxx # your key instead of xxx\n",
    "- save file"
   ]
  },
  {
   "cell_type": "code",
   "execution_count": null,
   "metadata": {},
   "outputs": [],
   "source": [
    "### We call our key into notebook using the following code\n",
    "load_dotenv()\n",
    "\n",
    "api_key = os.getenv('FIN_API_KEY')"
   ]
  },
  {
   "cell_type": "code",
   "execution_count": null,
   "metadata": {},
   "outputs": [],
   "source": [
    "# We will collect daily stock price data for Apple (AAPL)\n",
    "url = (\n",
    "    f'https://www.alphavantage.co/query?'\n",
    "    f'function=TIME_SERIES_DAILY&'\n",
    "    f'symbol=AAPL&'\n",
    "    f'apikey={api_key}'\n",
    ")\n",
    "print(url)"
   ]
  },
  {
   "cell_type": "code",
   "execution_count": null,
   "metadata": {},
   "outputs": [],
   "source": [
    "response = requests.get(url)\n",
    "print(response)\n",
    "data = response.json()"
   ]
  },
  {
   "cell_type": "code",
   "execution_count": null,
   "metadata": {},
   "outputs": [],
   "source": [
    "# Convert the list of articles into a DataFrame\n",
    "finance = data['Time Series (Daily)']\n",
    "symbol = data['Meta Data']['2. Symbol']\n",
    "\n",
    "\n",
    "df = pd.DataFrame(finance)\n",
    "df.head()"
   ]
  },
  {
   "cell_type": "code",
   "execution_count": null,
   "metadata": {},
   "outputs": [],
   "source": [
    "# Transpose the DataFrame\n",
    "df_transposed = df.transpose()\n",
    "df_transposed['Symbol'] = symbol\n",
    "\n",
    "# Now, each column is an attribute (open, high, low, close, volume) and each row is a date.\n",
    "print(df_transposed.head(20))"
   ]
  }
 ],
 "metadata": {
  "kernelspec": {
   "display_name": "SDC24",
   "language": "python",
   "name": "python3"
  },
  "language_info": {
   "codemirror_mode": {
    "name": "ipython",
    "version": 3
   },
   "file_extension": ".py",
   "mimetype": "text/x-python",
   "name": "python",
   "nbconvert_exporter": "python",
   "pygments_lexer": "ipython3",
   "version": "3.12.2"
  }
 },
 "nbformat": 4,
 "nbformat_minor": 2
}
