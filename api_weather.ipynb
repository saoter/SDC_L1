{
 "cells": [
  {
   "cell_type": "markdown",
   "metadata": {},
   "source": [
    "# Using API to get weather data"
   ]
  },
  {
   "cell_type": "code",
   "execution_count": null,
   "metadata": {},
   "outputs": [],
   "source": [
    "# Importing packages\n",
    "import pandas as pd\n",
    "import requests\n",
    "import json\n",
    "import matplotlib.pyplot as plt\n",
    "import matplotlib.dates as mdates"
   ]
  },
  {
   "cell_type": "markdown",
   "metadata": {},
   "source": [
    "We are using API from https://open-meteo.com/"
   ]
  },
  {
   "cell_type": "markdown",
   "metadata": {},
   "source": [
    "## Weather forecast"
   ]
  },
  {
   "cell_type": "code",
   "execution_count": null,
   "metadata": {},
   "outputs": [],
   "source": [
    "# weather forecast\n",
    "url = (\n",
    "    f'https://api.open-meteo.com/v1/'\n",
    "    f'forecast?'\n",
    "    f'latitude=40.3235&longitude=116.6308'\n",
    "    f'&hourly=temperature_2m,precipitation,wind_speed_10m'\n",
    "    f'&forecast_days=3'\n",
    ")\n",
    "print(url)"
   ]
  },
  {
   "cell_type": "code",
   "execution_count": null,
   "metadata": {},
   "outputs": [],
   "source": [
    "response = requests.get(url)\n",
    "print(response)\n",
    "data = response.json()"
   ]
  },
  {
   "cell_type": "code",
   "execution_count": null,
   "metadata": {},
   "outputs": [],
   "source": [
    "df_weather = pd.DataFrame(data['hourly'])\n",
    "\n",
    "df_weather['latitude']= data['latitude']\n",
    "df_weather['longitude']= data['longitude']\n",
    "df_weather.head()\n"
   ]
  },
  {
   "cell_type": "markdown",
   "metadata": {},
   "source": [
    "## Air Quality data"
   ]
  },
  {
   "cell_type": "code",
   "execution_count": null,
   "metadata": {},
   "outputs": [],
   "source": [
    "# air quality\n",
    "url = (\n",
    "    f'https://air-quality-api.open-meteo.com/v1/'\n",
    "    f'air-quality?'\n",
    "    f'latitude=40.3235&longitude=116.6308'\n",
    "    f'&hourly=pm10,pm2_5'\n",
    "    f'&forecast_days=3'\n",
    ")\n",
    "print(url)"
   ]
  },
  {
   "cell_type": "code",
   "execution_count": null,
   "metadata": {},
   "outputs": [],
   "source": [
    "response = requests.get(url)\n",
    "print(response)\n",
    "\n",
    "data = response.json()\n"
   ]
  },
  {
   "cell_type": "code",
   "execution_count": null,
   "metadata": {},
   "outputs": [],
   "source": [
    "df_airquality = pd.DataFrame(data['hourly'])\n",
    "\n",
    "df_airquality['latitude']= data['latitude']\n",
    "df_airquality['longitude']= data['longitude']\n",
    "df_airquality.head()\n"
   ]
  },
  {
   "cell_type": "markdown",
   "metadata": {},
   "source": [
    "## Merging data and Vizualization"
   ]
  },
  {
   "cell_type": "code",
   "execution_count": null,
   "metadata": {},
   "outputs": [],
   "source": [
    "df =pd.merge(left=df_airquality, right=df_weather, on='time')\n",
    "df['time'] = pd.to_datetime(df['time'])\n",
    "df.head()"
   ]
  },
  {
   "cell_type": "code",
   "execution_count": null,
   "metadata": {},
   "outputs": [],
   "source": [
    "ticks = df[df['time'].dt.hour == 0]['time']\n",
    "\n",
    "# Plot setup\n",
    "plt.figure(figsize=(10, 6))\n",
    "\n",
    "# Plotting the data\n",
    "plt.plot(df['time'], df['pm10'], label='pm10', marker='P')\n",
    "plt.plot(df['time'], df['pm2_5'], label='pm2.5', marker='p')\n",
    "plt.plot(df['time'], df['temperature_2m'], label='Temperature 2m (°C)', marker='s')\n",
    "plt.plot(df['time'], df['wind_speed_10m'], label='Wind Speed 10m (m/s)', marker='^')\n",
    "plt.plot(df['time'], df['precipitation'], label='Precipitation', marker='s')\n",
    "\n",
    "\n",
    "# Setting x-axis ticks to only those at 00:00\n",
    "plt.gca().set_xticks(ticks)\n",
    "\n",
    "# Formatting x-axis labels to display date and ensure \"00:00\" is implicit\n",
    "plt.gca().xaxis.set_major_formatter(mdates.DateFormatter('%Y-%m-%d'))\n",
    "\n",
    "# Adding labels and title\n",
    "plt.xlabel('Time')\n",
    "plt.ylabel('Value')\n",
    "plt.title('Environmental Conditions Over Time in Huairou')\n",
    "plt.legend()\n",
    "\n",
    "# Rotate date labels for better readability\n",
    "plt.xticks(rotation=45)\n",
    "\n",
    "plt.tight_layout()  # Adjust layout to not cut off labels\n",
    "plt.show()"
   ]
  }
 ],
 "metadata": {
  "kernelspec": {
   "display_name": "SDC24",
   "language": "python",
   "name": "python3"
  },
  "language_info": {
   "codemirror_mode": {
    "name": "ipython",
    "version": 3
   },
   "file_extension": ".py",
   "mimetype": "text/x-python",
   "name": "python",
   "nbconvert_exporter": "python",
   "pygments_lexer": "ipython3",
   "version": "3.12.2"
  }
 },
 "nbformat": 4,
 "nbformat_minor": 2
}
