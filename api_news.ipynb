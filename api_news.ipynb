{
 "cells": [
  {
   "cell_type": "markdown",
   "metadata": {},
   "source": [
    "# Collecting news with API\n",
    "\n",
    "Use previous examples to fill the missing code!\n"
   ]
  },
  {
   "cell_type": "code",
   "execution_count": 1,
   "metadata": {},
   "outputs": [],
   "source": [
    "# Import packages\n",
    "import os\n",
    "from dotenv import load_dotenv\n",
    "import pandas as pd\n",
    "import json\n",
    "\n",
    "import requests"
   ]
  },
  {
   "cell_type": "markdown",
   "metadata": {},
   "source": [
    "We will collect articles from https://newsapi.org/"
   ]
  },
  {
   "cell_type": "code",
   "execution_count": 7,
   "metadata": {},
   "outputs": [
    {
     "name": "stdout",
     "output_type": "stream",
     "text": [
      "https://newsapi.org/v2/everything?q=GPT&from=2024-05-23&to=2024-05-26&apiKey=c4f34dfd61c54bd5a27a0585628e0204\n"
     ]
    }
   ],
   "source": [
    "# generate free API key and past it in .env file\n",
    "\n",
    "\n",
    "\n",
    "\n",
    "\n",
    "\n",
    "\n"
   ]
  },
  {
   "cell_type": "code",
   "execution_count": 8,
   "metadata": {},
   "outputs": [],
   "source": [
    "# Load api key in notebook\n",
    "#from functions import print_json_structure\n",
    "load_dotenv()\n",
    "\n",
    "# Retrieve API key from environment variables\n",
    "api_key = os.getenv('NEWS_API_KEY')"
   ]
  },
  {
   "cell_type": "code",
   "execution_count": 5,
   "metadata": {},
   "outputs": [
    {
     "name": "stdout",
     "output_type": "stream",
     "text": [
      "https://newsapi.org/v2/everything?q=GPT&from=2024-02-29&to=2024-03-11&apiKey=c4f34dfd61c54bd5a27a0585628e0204\n"
     ]
    }
   ],
   "source": [
    "# Create URL string\n",
    "\n",
    "\n",
    "\n",
    "\n",
    "print(url)"
   ]
  },
  {
   "cell_type": "code",
   "execution_count": 10,
   "metadata": {},
   "outputs": [
    {
     "name": "stdout",
     "output_type": "stream",
     "text": [
      "<Response [200]>\n"
     ]
    }
   ],
   "source": [
    "# connect and get response (second part is missing)\n",
    "response = requests.get(url)\n",
    "print(response)\n",
    "\n",
    "\n",
    "\n"
   ]
  },
  {
   "cell_type": "code",
   "execution_count": 11,
   "metadata": {},
   "outputs": [],
   "source": [
    "# Convert the list of articles into a DataFrame\n",
    "\n"
   ]
  },
  {
   "cell_type": "code",
   "execution_count": 12,
   "metadata": {},
   "outputs": [
    {
     "name": "stdout",
     "output_type": "stream",
     "text": [
      "             author                                              title  \\\n",
      "0       Will Knight  Pocket-Sized AI Models Could Unlock a New Era ...   \n",
      "1  Isabel Grünewald  KI-Update kompakt: OpenAI & News Corp, Alexa, ...   \n",
      "2    Erin Snodgrass  Former Facebook engineer says coding with an A...   \n",
      "3      Tim Hardwick      5 Reasons to Use OpenAI's ChatGPT App for Mac   \n",
      "4              None  I uploaded 11 years of my Day One Journal data...   \n",
      "\n",
      "                                         description  \\\n",
      "0  Research at Microsoft shows it’s possible to m...   \n",
      "1  Das \"KI-Update\" liefert werktäglich eine Zusam...   \n",
      "2  Former Facebook executive Aditya Agarwal attem...   \n",
      "3  On May 13, OpenAI during its Spring Update ann...   \n",
      "4  I uploaded 11 years (97k Hours of transcribed ...   \n",
      "\n",
      "                                                 url  \\\n",
      "0  https://www.wired.com/story/pocket-sized-ai-mo...   \n",
      "1  https://www.heise.de/news/KI-Update-kompakt-Op...   \n",
      "2  https://www.businessinsider.com/former-faceboo...   \n",
      "3  https://www.macrumors.com/2024/05/23/5-reasons...   \n",
      "4  https://www.linkedin.com/posts/darryl-kelly_i-...   \n",
      "\n",
      "                                          urlToImage           publishedAt  \\\n",
      "0  https://media.wired.com/photos/664e75af62bc1a1...  2024-05-23T16:00:00Z   \n",
      "1  https://heise.cloudimg.io/bound/1200x1200/q85....  2024-05-23T14:29:00Z   \n",
      "2  https://i.insider.com/664fe2b020abc1efe8fd3922...  2024-05-24T00:23:03Z   \n",
      "3  https://images.macrumors.com/t/3ryEFifWndi04rC...  2024-05-23T13:07:40Z   \n",
      "4  https://media.licdn.com/dms/image/D5622AQHknUs...  2024-05-24T20:40:54Z   \n",
      "\n",
      "                                             content         source_id  \\\n",
      "0  When ChatGPT was released in November 2023, it...             wired   \n",
      "1  Inhaltsverzeichnis\\r\\nOpenAI ist eine Kooperat...              None   \n",
      "2  Microsoft's Copilot tool.Microsoft\\r\\n<ul><li>...  business-insider   \n",
      "3  On May 13, OpenAI during its Spring Update ann...              None   \n",
      "4  Olivia &amp; Noah's Dad. Neurodivergent: Thoug...              None   \n",
      "\n",
      "        source_name  \n",
      "0             Wired  \n",
      "1      heise online  \n",
      "2  Business Insider  \n",
      "3         MacRumors  \n",
      "4      Linkedin.com  \n"
     ]
    }
   ],
   "source": [
    "# Expand the 'source' column into separate columns\n",
    "df_source = df['source'].apply(pd.Series)\n",
    "df_source.columns = [f\"source_{colname}\" for colname in df_source.columns]\n",
    "\n",
    "# Concatenate the expanded source DataFrame with the original DataFrame\n",
    "df = pd.concat([df.drop(['source'], axis=1), df_source], axis=1)\n",
    "\n",
    "print(df.head())\n"
   ]
  },
  {
   "cell_type": "code",
   "execution_count": 14,
   "metadata": {},
   "outputs": [
    {
     "name": "stdout",
     "output_type": "stream",
     "text": [
      "https://www.wired.com/story/pocket-sized-ai-models-unlock-new-era-of-computing/\n"
     ]
    }
   ],
   "source": [
    "print(df.url[0])"
   ]
  }
 ],
 "metadata": {
  "kernelspec": {
   "display_name": "SDC24",
   "language": "python",
   "name": "python3"
  },
  "language_info": {
   "codemirror_mode": {
    "name": "ipython",
    "version": 3
   },
   "file_extension": ".py",
   "mimetype": "text/x-python",
   "name": "python",
   "nbconvert_exporter": "python",
   "pygments_lexer": "ipython3",
   "version": "3.12.2"
  }
 },
 "nbformat": 4,
 "nbformat_minor": 2
}
